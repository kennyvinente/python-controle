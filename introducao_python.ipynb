{
 "cells": [
  {
   "cell_type": "markdown",
   "id": "c7f59d99",
   "metadata": {},
   "source": [
    "Utilizando a biblioteca simbólica do Python: **SymPy**. Preliminarmente, é interessante que o aluno tenha algum conhecimento sobre variáveis simbólicas em computação científica.\n",
    "\n",
    "Além disso, você deve verificar se esta biblioteca está instalada na sua distribuição do Python. Uma vez que ela esteja, você já pode utilizá-la. Os exemplos desta atividade foram retirados do tutorial do scipy, que pode ser acessado em: https://docs.sympy.org/dev/tutorial/. \n",
    "\n",
    "É recomendado que após terminar este notebook, o aluno acesse o link para ver estas e as muitas outras funções que o **SymPy** possui."
   ]
  },
  {
   "cell_type": "markdown",
   "id": "d76bf36c",
   "metadata": {},
   "source": [
    "A seguir temos a diferença entre a representação numérica e a simbólica. Considere o cálculo de $\\sqrt(2)$:"
   ]
  },
  {
   "cell_type": "code",
   "execution_count": null,
   "id": "a3235479",
   "metadata": {},
   "outputs": [],
   "source": [
    "import math\n",
    "math.sqrt(2)"
   ]
  },
  {
   "cell_type": "markdown",
   "id": "e782882a",
   "metadata": {},
   "source": [
    "Neste caso, temos a representação aproximada, uma vez que este número é irracional. Agora, utilizando a biblioteca simbólica, podemos evitar este tipo de problema, em computação científica."
   ]
  },
  {
   "cell_type": "code",
   "execution_count": null,
   "id": "662e6736",
   "metadata": {},
   "outputs": [],
   "source": [
    "import sympy\n",
    "sympy.sqrt(2)"
   ]
  },
  {
   "cell_type": "markdown",
   "id": "50403ca0",
   "metadata": {},
   "source": [
    "Validando expressões de ponto flutuante com precisão maior que 15 dígitos (default do SymPy)"
   ]
  },
  {
   "cell_type": "code",
   "execution_count": null,
   "id": "5c63f36d",
   "metadata": {},
   "outputs": [],
   "source": [
    "pi.evalf(100)"
   ]
  },
  {
   "cell_type": "code",
   "execution_count": null,
   "id": "3d6210ca",
   "metadata": {},
   "outputs": [],
   "source": [
    "expr = cos(2*x)\n",
    "expr.evalf(subs={x: 2.4})"
   ]
  },
  {
   "cell_type": "markdown",
   "id": "76e4c0e9",
   "metadata": {},
   "source": [
    "Exemplo de manipulações de expressões algébricas estão apresentados a seguir."
   ]
  },
  {
   "cell_type": "code",
   "execution_count": null,
   "id": "a3115bdd",
   "metadata": {},
   "outputs": [],
   "source": [
    "from sympy import symbols\n",
    "x, y = symbols('x y')\n",
    "expr = x + 2*y\n",
    "expr\n"
   ]
  },
  {
   "cell_type": "code",
   "execution_count": null,
   "id": "274a4aaf",
   "metadata": {},
   "outputs": [],
   "source": [
    "expr - x"
   ]
  },
  {
   "cell_type": "code",
   "execution_count": null,
   "id": "f21090a4",
   "metadata": {},
   "outputs": [],
   "source": [
    "x*expr"
   ]
  },
  {
   "cell_type": "code",
   "execution_count": null,
   "id": "42f821ff",
   "metadata": {},
   "outputs": [],
   "source": [
    "from sympy import expand, factor\n",
    "expanded_expr = expand(x*expr)\n",
    "expanded_expr"
   ]
  },
  {
   "cell_type": "code",
   "execution_count": null,
   "id": "66598bbc",
   "metadata": {},
   "outputs": [],
   "source": [
    "factor(expanded_expr)"
   ]
  },
  {
   "cell_type": "code",
   "execution_count": null,
   "id": "99537050",
   "metadata": {},
   "outputs": [],
   "source": [
    "a = (x + 1)**2\n",
    "b = x**2 + 2*x + 1\n",
    "simplify(a - b)"
   ]
  },
  {
   "cell_type": "code",
   "execution_count": null,
   "id": "3c7c8e52",
   "metadata": {},
   "outputs": [],
   "source": [
    "c = x**2 - 2*x + 1\n",
    "simplify(a - c)\n"
   ]
  },
  {
   "cell_type": "code",
   "execution_count": null,
   "id": "40af2b92",
   "metadata": {},
   "outputs": [],
   "source": [
    "factor(x**3 - x**2 + x - 1)"
   ]
  },
  {
   "cell_type": "code",
   "execution_count": null,
   "id": "679e11a8",
   "metadata": {},
   "outputs": [],
   "source": [
    "expand((cos(x) + sin(x))**2)"
   ]
  },
  {
   "cell_type": "code",
   "execution_count": null,
   "id": "27ceba71",
   "metadata": {},
   "outputs": [],
   "source": [
    "cancel((x**2 + 2*x + 1)/(x**2 + x))"
   ]
  },
  {
   "cell_type": "code",
   "execution_count": null,
   "id": "7c7b1fd8",
   "metadata": {},
   "outputs": [],
   "source": [
    "trigsimp(sin(x)**2 + cos(x)**2)"
   ]
  },
  {
   "cell_type": "markdown",
   "id": "9c302484",
   "metadata": {},
   "source": [
    "O exemplo a seguir demonstra como utilizar a biblioteca simbólica do Python para executar a integral de uma função. "
   ]
  },
  {
   "cell_type": "code",
   "execution_count": null,
   "id": "4a41336c",
   "metadata": {},
   "outputs": [],
   "source": [
    "from sympy import *\n",
    "x = symbols('x')\n",
    "a = Integral(cos(x),x)\n",
    "Eq(a, a.doit())"
   ]
  },
  {
   "cell_type": "markdown",
   "id": "d01a5152",
   "metadata": {},
   "source": [
    "Outros tipos de manipulações estão demonstrados nos blocos de códigos a seguir."
   ]
  },
  {
   "cell_type": "code",
   "execution_count": null,
   "id": "22b5195a",
   "metadata": {},
   "outputs": [],
   "source": [
    "from sympy import *\n",
    "x, t, z, nu = symbols('x t z nu')\n"
   ]
  },
  {
   "cell_type": "code",
   "execution_count": null,
   "id": "7a8fcd68",
   "metadata": {},
   "outputs": [],
   "source": [
    "init_printing(use_unicode=True)"
   ]
  },
  {
   "cell_type": "markdown",
   "id": "fd25fb00",
   "metadata": {},
   "source": [
    "O comando acima é utilizado para auxiliar na visualização de caracteres unicode."
   ]
  },
  {
   "cell_type": "code",
   "execution_count": null,
   "id": "899598cf",
   "metadata": {},
   "outputs": [],
   "source": [
    "diff(sin(x)*exp(x), x)"
   ]
  },
  {
   "cell_type": "markdown",
   "id": "4b9c1422",
   "metadata": {},
   "source": [
    "Cálculo de $\\int(e^x\\sin{(x)} + e^x\\cos{(x)})\\,dx$"
   ]
  },
  {
   "cell_type": "code",
   "execution_count": null,
   "id": "f0a42193",
   "metadata": {},
   "outputs": [],
   "source": [
    "integrate(exp(x)*sin(x) + exp(x)*cos(x), x)"
   ]
  },
  {
   "cell_type": "markdown",
   "id": "e4d7da6b",
   "metadata": {},
   "source": [
    "Cálculo de $\\int_{-\\infty}^\\infty \\sin{(x^2)}\\,dx$"
   ]
  },
  {
   "cell_type": "code",
   "execution_count": null,
   "id": "c9c0d3e2",
   "metadata": {},
   "outputs": [],
   "source": [
    "integrate(sin(x**2), (x, -oo, oo))"
   ]
  },
  {
   "cell_type": "markdown",
   "id": "272e2837",
   "metadata": {},
   "source": [
    "Cálculo de $\\lim_{x\\to 0}\\frac{\\sin{(x)}}{x}$"
   ]
  },
  {
   "cell_type": "code",
   "execution_count": null,
   "id": "3bd0aafa",
   "metadata": {},
   "outputs": [],
   "source": [
    "limit(sin(x)/x, x, 0)"
   ]
  },
  {
   "cell_type": "markdown",
   "id": "c9283ca9",
   "metadata": {},
   "source": [
    "Cálculo de $x^2 - 2 = 0$"
   ]
  },
  {
   "cell_type": "code",
   "execution_count": null,
   "id": "54159bb9",
   "metadata": {},
   "outputs": [],
   "source": [
    "solve(x**2 - 2, x)"
   ]
  },
  {
   "cell_type": "markdown",
   "id": "a4da43e4",
   "metadata": {},
   "source": [
    "Resolver a EDO $y'' - y = e^t$"
   ]
  },
  {
   "cell_type": "code",
   "execution_count": null,
   "id": "cdbf428b",
   "metadata": {},
   "outputs": [],
   "source": [
    "y = Function('y')\n",
    "dsolve(Eq(y(t).diff(t, t) - y(t), exp(t)), y(t))"
   ]
  },
  {
   "cell_type": "markdown",
   "id": "2482026d",
   "metadata": {},
   "source": [
    "Resolvendo a EDO $y'' - 2y' + y = sin(t)$"
   ]
  },
  {
   "cell_type": "code",
   "execution_count": null,
   "id": "2495b01a",
   "metadata": {},
   "outputs": [],
   "source": [
    "y = Function('y')\n",
    "diffeq = Eq(y(t).diff(t, t) - 2*y(t).diff(t) + y(t), sin(t))\n",
    "diffeq"
   ]
  },
  {
   "cell_type": "code",
   "execution_count": null,
   "id": "c62427c2",
   "metadata": {},
   "outputs": [],
   "source": [
    "dsolve(diffeq,y(t))"
   ]
  },
  {
   "cell_type": "markdown",
   "id": "32f68b86",
   "metadata": {},
   "source": [
    "Calcule os autovalores de $\\left[\\begin{smallmatrix}1 & 2\\\\2 & 2\\end{smallmatrix}\\right]$"
   ]
  },
  {
   "cell_type": "code",
   "execution_count": null,
   "id": "cd10c05c",
   "metadata": {},
   "outputs": [],
   "source": [
    "Matrix([[1, 2], [2, 2]]).eigenvals()"
   ]
  },
  {
   "cell_type": "markdown",
   "id": "7e532b3f",
   "metadata": {},
   "source": [
    "O comando a seguire resolve a EDO \n",
    "\n",
    "$750y'' +30y' +15y^2 = 300$ \n",
    "\n",
    "com condições iniciais $y(0) = 0, y'(0) = 0$."
   ]
  },
  {
   "cell_type": "code",
   "execution_count": null,
   "id": "de6baa13",
   "metadata": {},
   "outputs": [],
   "source": [
    "y = Function('y')\n",
    "dsolve(Eq(750*y(t).diff(t, t) + 30*y(t).diff(t) + 15*y(t), 300), y(t), ics={y(0): 0, diff(y(t), t).subs(t,0): 0})"
   ]
  },
  {
   "cell_type": "markdown",
   "id": "1f93bdf8",
   "metadata": {},
   "source": [
    "Note que não são todas as EDO's que o sympy consegue resolver. Por exemplo, a EDO: \n",
    "\n",
    "$750y'' +30y' +15y^2 = 300$ \n",
    "\n",
    "não pode ser resolvida, e consequentemente, o código gera uma exceção (erro)"
   ]
  },
  {
   "cell_type": "code",
   "execution_count": null,
   "id": "64f886ce",
   "metadata": {},
   "outputs": [],
   "source": [
    "try:\n",
    "    dsolve(Eq(750*y(t).diff(t, t) + 30*y(t).diff(t) + 15*y(t)**2, 300), y(t))\n",
    "except Exception:\n",
    "    print('edo nao pode ser resolvida')"
   ]
  },
  {
   "cell_type": "markdown",
   "id": "b46db147",
   "metadata": {},
   "source": [
    "Resolvendo equações algébricas"
   ]
  },
  {
   "cell_type": "code",
   "execution_count": null,
   "id": "08532542",
   "metadata": {},
   "outputs": [],
   "source": [
    "x, y, z = symbols('x y z')\n",
    "init_printing(use_unicode=True)"
   ]
  },
  {
   "cell_type": "markdown",
   "id": "d2889151",
   "metadata": {},
   "source": [
    "Criando uma equação do tipo $x = y$"
   ]
  },
  {
   "cell_type": "code",
   "execution_count": null,
   "id": "fac1a6a4",
   "metadata": {},
   "outputs": [],
   "source": [
    "Eq(x, y)"
   ]
  },
  {
   "cell_type": "markdown",
   "id": "983d230b",
   "metadata": {},
   "source": [
    "Resolvendo a equação $x^2 = 1$"
   ]
  },
  {
   "cell_type": "code",
   "execution_count": null,
   "id": "527310e1",
   "metadata": {},
   "outputs": [],
   "source": [
    "solve(Eq(x**2, 1), x)"
   ]
  },
  {
   "cell_type": "code",
   "execution_count": null,
   "id": "68d27a8a",
   "metadata": {},
   "outputs": [],
   "source": [
    "solve(x**2 - 1, x)"
   ]
  },
  {
   "cell_type": "markdown",
   "id": "8d2551fe",
   "metadata": {},
   "source": [
    "Resolvendo a equação $x^2 -x = 0$"
   ]
  },
  {
   "cell_type": "code",
   "execution_count": null,
   "id": "63fc9d61",
   "metadata": {},
   "outputs": [],
   "source": [
    "solve(x**2 - x, x)"
   ]
  },
  {
   "cell_type": "markdown",
   "id": "9bb1ef12",
   "metadata": {},
   "source": [
    "Resolvendo o sistema de equações\n",
    "\n",
    "\\begin{eqnarray*}\n",
    "x - y & = &-2 \\\\\n",
    "x + y & = &3\n",
    "\\end{eqnarray*}"
   ]
  },
  {
   "cell_type": "code",
   "execution_count": null,
   "id": "dbd5221d",
   "metadata": {},
   "outputs": [],
   "source": [
    "solve([x - y + 2, x + y - 3], [x, y])"
   ]
  },
  {
   "cell_type": "markdown",
   "id": "44f8cdd3",
   "metadata": {},
   "source": [
    "Resolvendo a equação $x^3 - 6x^2 + 9x = 0$"
   ]
  },
  {
   "cell_type": "code",
   "execution_count": null,
   "id": "ae92749f",
   "metadata": {},
   "outputs": [],
   "source": [
    "solve(x**3 - 6*x**2 + 9*x, x)"
   ]
  }
 ],
 "metadata": {
  "kernelspec": {
   "display_name": "Python 3 (ipykernel)",
   "language": "python",
   "name": "python3"
  },
  "language_info": {
   "codemirror_mode": {
    "name": "ipython",
    "version": 3
   },
   "file_extension": ".py",
   "mimetype": "text/x-python",
   "name": "python",
   "nbconvert_exporter": "python",
   "pygments_lexer": "ipython3",
   "version": "3.7.5"
  }
 },
 "nbformat": 4,
 "nbformat_minor": 5
}
